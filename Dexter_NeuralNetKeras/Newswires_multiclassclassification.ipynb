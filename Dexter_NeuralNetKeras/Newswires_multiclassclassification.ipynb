{
 "cells": [
  {
   "cell_type": "code",
   "execution_count": 1,
   "source": [
    "from tensorflow import keras\n",
    "from tensorflow.keras import layers\n",
    "import tensorflow as tf\n",
    "from tensorflow.keras.datasets import reuters\n",
    "import matplotlib.pyplot as plt\n",
    "import numpy as np\n",
    "\n",
    "\n",
    "\n",
    "(train_data, train_labels), (test_data, test_labels) = reuters.load_data(\n",
    "    num_words=10000)\n",
    "\n",
    "len(train_data)\n",
    "len(test_data)\n",
    "train_data[10]\n",
    "\n",
    "word_index = reuters.get_word_index()\n",
    "reverse_word_index = dict([(value, key) for (key, value) in word_index.items()])\n",
    "decoded_newswire = \" \".join([reverse_word_index.get(i - 3, \"?\") for i in\n",
    "    train_data[0]])\n",
    "\n",
    "train_labels[10]\n",
    "\n",
    "def vectorize_sequences(sequences, dimension=10000):\n",
    "    results = np.zeros((len(sequences), dimension))\n",
    "    for i, sequence in enumerate(sequences):\n",
    "        for j in sequence:\n",
    "            results[i, j] = 1.\n",
    "    return results\n",
    "\n",
    "x_train = vectorize_sequences(train_data)\n",
    "x_test = vectorize_sequences(test_data)\n",
    "\n",
    "def to_one_hot(labels, dimension=46):\n",
    "    results = np.zeros((len(labels), dimension))\n",
    "    for i, label in enumerate(labels):\n",
    "        results[i, label] = 1.\n",
    "    return results\n",
    "y_train = to_one_hot(train_labels)\n",
    "y_test = to_one_hot(test_labels)\n",
    "\n",
    "from tensorflow.keras.utils import to_categorical\n",
    "y_train = to_categorical(train_labels)\n",
    "y_test = to_categorical(test_labels)\n",
    "\n",
    "model = keras.Sequential([\n",
    "    layers.Dense(64, activation=\"relu\"),\n",
    "    layers.Dense(64, activation=\"relu\"),\n",
    "    layers.Dense(46, activation=\"softmax\")\n",
    "])\n",
    "\n",
    "\n",
    "model.compile(optimizer=\"rmsprop\",\n",
    "              loss=\"categorical_crossentropy\",\n",
    "              metrics=[\"accuracy\"])\n",
    "\n",
    "\n",
    "x_val = x_train[:1000]\n",
    "partial_x_train = x_train[1000:]\n",
    "y_val = y_train[:1000]\n",
    "partial_y_train = y_train[1000:]\n",
    "\n",
    "\n",
    "history = model.fit(partial_x_train,\n",
    "                    partial_y_train,\n",
    "                    epochs=20,\n",
    "                    batch_size=512,\n",
    "                    validation_data=(x_val, y_val))\n",
    "\n",
    "loss = history.history[\"loss\"]\n",
    "val_loss = history.history[\"val_loss\"]\n",
    "epochs = range(1, len(loss) + 1)\n",
    "plt.plot(epochs, loss, \"bo\", label=\"Training loss\")\n",
    "plt.plot(epochs, val_loss, \"b\", label=\"Validation loss\")\n",
    "plt.title(\"Training and validation loss\")\n",
    "plt.xlabel(\"Epochs\")\n",
    "plt.ylabel(\"Loss\")\n",
    "plt.legend()\n",
    "plt.show()\n",
    "\n",
    "plt.clf()\n",
    "acc = history.history[\"accuracy\"]\n",
    "val_acc = history.history[\"val_accuracy\"]\n",
    "plt.plot(epochs, acc, \"bo\", label=\"Training accuracy\")\n",
    "plt.plot(epochs, val_acc, \"b\", label=\"Validation accuracy\")\n",
    "plt.title(\"Training and validation accuracy\")\n",
    "plt.xlabel(\"Epochs\")\n",
    "plt.ylabel(\"Accuracy\")\n",
    "plt.legend()\n",
    "plt.show()\n",
    "\n",
    "model = keras.Sequential([\n",
    "  layers.Dense(64, activation=\"relu\"),\n",
    "  layers.Dense(64, activation=\"relu\"),\n",
    "  layers.Dense(46, activation=\"softmax\")\n",
    "])\n",
    "model.compile(optimizer=\"rmsprop\",\n",
    "              loss=\"categorical_crossentropy\",\n",
    "              metrics=[\"accuracy\"])\n",
    "model.fit(x_train,\n",
    "          y_train,\n",
    "          epochs=9,\n",
    "          batch_size=512)\n",
    "results = model.evaluate(x_test, y_test)\n",
    "\n",
    "results\n",
    "\n",
    "import copy\n",
    "test_labels_copy = copy.copy(test_labels)\n",
    "np.random.shuffle(test_labels_copy)\n",
    "hits_array = np.array(test_labels) == np.array(test_labels_copy)\n",
    "hits_array.mean()\n",
    "\n",
    "predictions = model.predict(x_test)\n",
    "predictions[0].shape\n",
    "\n",
    "np.sum(predictions[0])\n",
    "\n",
    "np.argmax(predictions[0])\n",
    "\n",
    "y_train = np.array(train_labels)\n",
    "y_test = np.array(test_labels)\n",
    "\n",
    "model.compile(optimizer=\"rmsprop\",\n",
    "              loss=\"sparse_categorical_crossentropy\",\n",
    "              metrics=[\"accuracy\"])\n",
    "\n",
    "model = keras.Sequential([\n",
    "    layers.Dense(64, activation=\"relu\"),\n",
    "    layers.Dense(4, activation=\"relu\"),\n",
    "    layers.Dense(46, activation=\"softmax\")\n",
    "])\n",
    "model.compile(optimizer=\"rmsprop\",\n",
    "              loss=\"categorical_crossentropy\",\n",
    "              metrics=[\"accuracy\"])\n",
    "model.fit(partial_x_train,\n",
    "          partial_y_train,\n",
    "          epochs=20,\n",
    "          batch_size=128,\n",
    "          validation_data=(x_val, y_val))"
   ],
   "outputs": [
    {
     "output_type": "stream",
     "name": "stdout",
     "text": [
      "Metal device set to: Apple M1 Pro\n",
      "\n",
      "systemMemory: 16.00 GB\n",
      "maxCacheSize: 5.33 GB\n",
      "\n"
     ]
    },
    {
     "output_type": "stream",
     "name": "stderr",
     "text": [
      "2023-03-07 23:44:05.981629: I tensorflow/core/common_runtime/pluggable_device/pluggable_device_factory.cc:305] Could not identify NUMA node of platform GPU ID 0, defaulting to 0. Your kernel may not have been built with NUMA support.\n",
      "2023-03-07 23:44:05.981863: I tensorflow/core/common_runtime/pluggable_device/pluggable_device_factory.cc:271] Created TensorFlow device (/job:localhost/replica:0/task:0/device:GPU:0 with 0 MB memory) -> physical PluggableDevice (device: 0, name: METAL, pci bus id: <undefined>)\n"
     ]
    },
    {
     "output_type": "stream",
     "name": "stdout",
     "text": [
      "Epoch 1/20\n"
     ]
    },
    {
     "output_type": "stream",
     "name": "stderr",
     "text": [
      "2023-03-07 23:44:06.528644: W tensorflow/core/platform/profile_utils/cpu_utils.cc:128] Failed to get CPU frequency: 0 Hz\n",
      "2023-03-07 23:44:06.795858: I tensorflow/core/grappler/optimizers/custom_graph_optimizer_registry.cc:113] Plugin optimizer for device_type GPU is enabled.\n"
     ]
    },
    {
     "output_type": "stream",
     "name": "stdout",
     "text": [
      "16/16 [==============================] - 1s 31ms/step - loss: 2.4793 - accuracy: 0.5313 - val_loss: 1.6604 - val_accuracy: 0.6510\n",
      "Epoch 2/20\n",
      " 5/16 [========>.....................] - ETA: 0s - loss: 1.5276 - accuracy: 0.6840"
     ]
    },
    {
     "output_type": "stream",
     "name": "stderr",
     "text": [
      "2023-03-07 23:44:07.457250: I tensorflow/core/grappler/optimizers/custom_graph_optimizer_registry.cc:113] Plugin optimizer for device_type GPU is enabled.\n"
     ]
    },
    {
     "output_type": "stream",
     "name": "stdout",
     "text": [
      "16/16 [==============================] - 0s 17ms/step - loss: 1.3790 - accuracy: 0.7036 - val_loss: 1.3039 - val_accuracy: 0.7130\n",
      "Epoch 3/20\n",
      "16/16 [==============================] - 0s 16ms/step - loss: 1.0327 - accuracy: 0.7747 - val_loss: 1.1665 - val_accuracy: 0.7540\n",
      "Epoch 4/20\n",
      "16/16 [==============================] - 0s 17ms/step - loss: 0.8095 - accuracy: 0.8274 - val_loss: 1.0519 - val_accuracy: 0.7800\n",
      "Epoch 5/20\n",
      "16/16 [==============================] - 0s 16ms/step - loss: 0.6489 - accuracy: 0.8608 - val_loss: 1.0013 - val_accuracy: 0.7820\n",
      "Epoch 6/20\n",
      "16/16 [==============================] - 0s 15ms/step - loss: 0.5161 - accuracy: 0.8905 - val_loss: 0.9812 - val_accuracy: 0.7890\n",
      "Epoch 7/20\n",
      "16/16 [==============================] - 0s 16ms/step - loss: 0.4193 - accuracy: 0.9099 - val_loss: 0.9233 - val_accuracy: 0.8190\n",
      "Epoch 8/20\n",
      "16/16 [==============================] - 0s 16ms/step - loss: 0.3401 - accuracy: 0.9287 - val_loss: 0.9093 - val_accuracy: 0.8160\n",
      "Epoch 9/20\n",
      "16/16 [==============================] - 0s 15ms/step - loss: 0.2826 - accuracy: 0.9380 - val_loss: 0.9161 - val_accuracy: 0.8160\n",
      "Epoch 10/20\n",
      "16/16 [==============================] - 0s 15ms/step - loss: 0.2405 - accuracy: 0.9444 - val_loss: 0.9463 - val_accuracy: 0.8080\n",
      "Epoch 11/20\n",
      "16/16 [==============================] - 0s 16ms/step - loss: 0.2044 - accuracy: 0.9491 - val_loss: 0.9447 - val_accuracy: 0.8110\n",
      "Epoch 12/20\n",
      "16/16 [==============================] - 0s 15ms/step - loss: 0.1815 - accuracy: 0.9504 - val_loss: 0.9965 - val_accuracy: 0.8100\n",
      "Epoch 13/20\n",
      "16/16 [==============================] - 0s 15ms/step - loss: 0.1653 - accuracy: 0.9528 - val_loss: 1.0270 - val_accuracy: 0.7950\n",
      "Epoch 14/20\n",
      "16/16 [==============================] - 0s 16ms/step - loss: 0.1500 - accuracy: 0.9539 - val_loss: 1.0297 - val_accuracy: 0.8030\n",
      "Epoch 15/20\n",
      "16/16 [==============================] - 0s 16ms/step - loss: 0.1381 - accuracy: 0.9565 - val_loss: 1.0161 - val_accuracy: 0.8040\n",
      "Epoch 16/20\n",
      "16/16 [==============================] - 0s 15ms/step - loss: 0.1323 - accuracy: 0.9564 - val_loss: 1.0487 - val_accuracy: 0.8020\n",
      "Epoch 17/20\n",
      "16/16 [==============================] - 0s 17ms/step - loss: 0.1250 - accuracy: 0.9584 - val_loss: 1.1009 - val_accuracy: 0.8090\n",
      "Epoch 18/20\n",
      "16/16 [==============================] - 0s 16ms/step - loss: 0.1210 - accuracy: 0.9579 - val_loss: 1.0600 - val_accuracy: 0.8060\n",
      "Epoch 19/20\n",
      "16/16 [==============================] - 0s 15ms/step - loss: 0.1171 - accuracy: 0.9579 - val_loss: 1.0862 - val_accuracy: 0.8090\n",
      "Epoch 20/20\n",
      "16/16 [==============================] - 0s 15ms/step - loss: 0.1136 - accuracy: 0.9560 - val_loss: 1.0991 - val_accuracy: 0.8040\n"
     ]
    },
    {
     "output_type": "display_data",
     "data": {
      "image/png": "[encoded data removed]",
      "text/plain": [
       "<Figure size 640x480 with 1 Axes>"
      ]
     },
     "metadata": {}
    },
    {
     "output_type": "display_data",
     "data": {
      "image/png": "[encoded data removed]",
      "text/plain": [
       "<Figure size 640x480 with 1 Axes>"
      ]
     },
     "metadata": {}
    },
    {
     "output_type": "stream",
     "name": "stdout",
     "text": [
      "Epoch 1/9\n",
      " 1/18 [>.............................] - ETA: 7s - loss: 3.8067 - accuracy: 0.0527"
     ]
    },
    {
     "output_type": "stream",
     "name": "stderr",
     "text": [
      "2023-03-07 23:44:12.990696: I tensorflow/core/grappler/optimizers/custom_graph_optimizer_registry.cc:113] Plugin optimizer for device_type GPU is enabled.\n"
     ]
    },
    {
     "output_type": "stream",
     "name": "stdout",
     "text": [
      "18/18 [==============================] - 1s 15ms/step - loss: 2.3770 - accuracy: 0.5497\n",
      "Epoch 2/9\n",
      "18/18 [==============================] - 0s 13ms/step - loss: 1.3056 - accuracy: 0.7169\n",
      "Epoch 3/9\n",
      "18/18 [==============================] - 0s 13ms/step - loss: 0.9716 - accuracy: 0.7855\n",
      "Epoch 4/9\n",
      "18/18 [==============================] - 0s 13ms/step - loss: 0.7643 - accuracy: 0.8357\n",
      "Epoch 5/9\n",
      "18/18 [==============================] - 0s 13ms/step - loss: 0.6027 - accuracy: 0.8734\n",
      "Epoch 6/9\n",
      "18/18 [==============================] - 0s 13ms/step - loss: 0.4814 - accuracy: 0.8989\n",
      "Epoch 7/9\n",
      "18/18 [==============================] - 0s 14ms/step - loss: 0.3851 - accuracy: 0.9175\n",
      "Epoch 8/9\n",
      "18/18 [==============================] - 0s 13ms/step - loss: 0.3180 - accuracy: 0.9297\n",
      "Epoch 9/9\n",
      "18/18 [==============================] - 0s 12ms/step - loss: 0.2619 - accuracy: 0.9393\n",
      "11/71 [===>..........................] - ETA: 0s - loss: 0.9119 - accuracy: 0.8011"
     ]
    },
    {
     "output_type": "stream",
     "name": "stderr",
     "text": [
      "2023-03-07 23:44:15.461126: I tensorflow/core/grappler/optimizers/custom_graph_optimizer_registry.cc:113] Plugin optimizer for device_type GPU is enabled.\n"
     ]
    },
    {
     "output_type": "stream",
     "name": "stdout",
     "text": [
      "71/71 [==============================] - 1s 10ms/step - loss: 0.9920 - accuracy: 0.7858\n",
      "60/71 [========================>.....] - ETA: 0s"
     ]
    },
    {
     "output_type": "stream",
     "name": "stderr",
     "text": [
      "2023-03-07 23:44:16.360783: I tensorflow/core/grappler/optimizers/custom_graph_optimizer_registry.cc:113] Plugin optimizer for device_type GPU is enabled.\n"
     ]
    },
    {
     "output_type": "stream",
     "name": "stdout",
     "text": [
      "71/71 [==============================] - 0s 3ms/step\n",
      "Epoch 1/20\n",
      " 1/63 [..............................] - ETA: 23s - loss: 3.8311 - accuracy: 0.0000e+00"
     ]
    },
    {
     "output_type": "stream",
     "name": "stderr",
     "text": [
      "2023-03-07 23:44:17.022103: I tensorflow/core/grappler/optimizers/custom_graph_optimizer_registry.cc:113] Plugin optimizer for device_type GPU is enabled.\n"
     ]
    },
    {
     "output_type": "stream",
     "name": "stdout",
     "text": [
      "63/63 [==============================] - 1s 17ms/step - loss: 3.0001 - accuracy: 0.2345 - val_loss: 2.2286 - val_accuracy: 0.5870\n",
      "Epoch 2/20\n",
      " 5/63 [=>............................] - ETA: 0s - loss: 2.1722 - accuracy: 0.5922"
     ]
    },
    {
     "output_type": "stream",
     "name": "stderr",
     "text": [
      "2023-03-07 23:44:18.162014: I tensorflow/core/grappler/optimizers/custom_graph_optimizer_registry.cc:113] Plugin optimizer for device_type GPU is enabled.\n"
     ]
    },
    {
     "output_type": "stream",
     "name": "stdout",
     "text": [
      "63/63 [==============================] - 1s 15ms/step - loss: 1.8364 - accuracy: 0.5901 - val_loss: 1.6732 - val_accuracy: 0.5970\n",
      "Epoch 3/20\n",
      "63/63 [==============================] - 1s 15ms/step - loss: 1.5070 - accuracy: 0.6248 - val_loss: 1.5483 - val_accuracy: 0.6190\n",
      "Epoch 4/20\n",
      "63/63 [==============================] - 1s 14ms/step - loss: 1.3555 - accuracy: 0.6513 - val_loss: 1.4952 - val_accuracy: 0.6220\n",
      "Epoch 5/20\n",
      "63/63 [==============================] - 1s 14ms/step - loss: 1.2432 - accuracy: 0.6569 - val_loss: 1.4383 - val_accuracy: 0.6300\n",
      "Epoch 6/20\n",
      "63/63 [==============================] - 1s 14ms/step - loss: 1.1090 - accuracy: 0.6847 - val_loss: 1.4128 - val_accuracy: 0.6580\n",
      "Epoch 7/20\n",
      "63/63 [==============================] - 1s 15ms/step - loss: 0.9860 - accuracy: 0.7309 - val_loss: 1.3870 - val_accuracy: 0.6750\n",
      "Epoch 8/20\n",
      "63/63 [==============================] - 1s 15ms/step - loss: 0.8891 - accuracy: 0.7576 - val_loss: 1.3778 - val_accuracy: 0.6910\n",
      "Epoch 9/20\n",
      "63/63 [==============================] - 1s 16ms/step - loss: 0.8127 - accuracy: 0.7754 - val_loss: 1.4145 - val_accuracy: 0.6940\n",
      "Epoch 10/20\n",
      "63/63 [==============================] - 1s 20ms/step - loss: 0.7497 - accuracy: 0.7935 - val_loss: 1.4497 - val_accuracy: 0.7020\n",
      "Epoch 11/20\n",
      "63/63 [==============================] - 1s 18ms/step - loss: 0.6953 - accuracy: 0.8126 - val_loss: 1.4972 - val_accuracy: 0.6940\n",
      "Epoch 12/20\n",
      "63/63 [==============================] - 1s 17ms/step - loss: 0.6477 - accuracy: 0.8212 - val_loss: 1.5725 - val_accuracy: 0.6980\n",
      "Epoch 13/20\n",
      "63/63 [==============================] - 1s 16ms/step - loss: 0.6062 - accuracy: 0.8285 - val_loss: 1.5506 - val_accuracy: 0.6990\n",
      "Epoch 14/20\n",
      "63/63 [==============================] - 1s 15ms/step - loss: 0.5721 - accuracy: 0.8373 - val_loss: 1.6868 - val_accuracy: 0.6990\n",
      "Epoch 15/20\n",
      "63/63 [==============================] - 1s 16ms/step - loss: 0.5394 - accuracy: 0.8464 - val_loss: 1.7481 - val_accuracy: 0.6950\n",
      "Epoch 16/20\n",
      "63/63 [==============================] - 1s 16ms/step - loss: 0.5137 - accuracy: 0.8503 - val_loss: 1.7573 - val_accuracy: 0.6950\n",
      "Epoch 17/20\n",
      "63/63 [==============================] - 1s 16ms/step - loss: 0.4881 - accuracy: 0.8549 - val_loss: 1.8606 - val_accuracy: 0.6940\n",
      "Epoch 18/20\n",
      "63/63 [==============================] - 1s 16ms/step - loss: 0.4668 - accuracy: 0.8588 - val_loss: 1.9661 - val_accuracy: 0.6960\n",
      "Epoch 19/20\n",
      "63/63 [==============================] - 1s 16ms/step - loss: 0.4463 - accuracy: 0.8662 - val_loss: 1.9731 - val_accuracy: 0.6940\n",
      "Epoch 20/20\n",
      "63/63 [==============================] - 1s 15ms/step - loss: 0.4320 - accuracy: 0.8733 - val_loss: 2.0166 - val_accuracy: 0.6910\n"
     ]
    },
    {
     "output_type": "execute_result",
     "data": {
      "text/plain": [
       "<keras.callbacks.History at 0x2c6486c80>"
      ]
     },
     "metadata": {},
     "execution_count": 1
    }
   ],
   "metadata": {}
  }
 ],
 "nbformat": 4,
 "nbformat_minor": 2,
 "metadata": {
  "language_info": {
   "codemirror_mode": {
    "name": "ipython",
    "version": 3
   },
   "file_extension": ".py",
   "mimetype": "text/x-python",
   "name": "python",
   "nbconvert_exporter": "python",
   "pygments_lexer": "ipython3",
   "version": 3
  },
  "orig_nbformat": 4
 }
}